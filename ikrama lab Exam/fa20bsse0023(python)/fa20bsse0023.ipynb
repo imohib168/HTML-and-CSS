{
 "cells": [
  {
   "cell_type": "code",
   "execution_count": null,
   "metadata": {},
   "outputs": [],
   "source": [
    "a = [12,3,4,6,7,8,9]\n",
    "\n",
    "def divisible(list):\n",
    "    for x in list:\n",
    "        if(x % 2 != 0):\n",
    "            print(f\"{x} is divisible by 3\")\n",
    "            \n",
    "divisible(a)"
   ]
  },
  {
   "cell_type": "code",
   "execution_count": null,
   "metadata": {},
   "outputs": [],
   "source": [
    "emptyList = []\n",
    "\n",
    "print(emptyList)\n",
    "\n",
    "\n",
    "emptyList.append(5)\n",
    "emptyList.append(4)\n",
    "emptyList.append(-1)\n",
    "\n",
    "print(emptyList)\n",
    "\n",
    "def ascending(data):\n",
    "    ascendingList = []\n",
    "    while data:\n",
    "        minimum = data[0]\n",
    "        print(\"Minimun Number\", minimum)\n",
    "        for x in data: \n",
    "            if x < minimum:\n",
    "                minimum = x\n",
    "        ascendingList.append(minimum)\n",
    "        data.remove(minimum)    \n",
    "    print(ascendingList)\n",
    "    \n",
    "ascending(emptyList)"
   ]
  }
 ],
 "metadata": {
  "kernelspec": {
   "display_name": "Python 3",
   "language": "python",
   "name": "python3"
  }
 },
 "nbformat": 4,
 "nbformat_minor": 4
}
